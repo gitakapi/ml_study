{
 "cells": [
  {
   "cell_type": "code",
   "execution_count": 5,
   "metadata": {
    "scrolled": false
   },
   "outputs": [
    {
     "name": "stdout",
     "output_type": "stream",
     "text": [
      "Step #10000 A = [10.035784]\n",
      "Loss #10000 loss = 0.8485384\n",
      "Step #20000 A = [10.094569]\n",
      "Loss #20000 loss = 1.2518027\n",
      "Step #30000 A = [10.035959]\n",
      "Loss #30000 loss = 0.80722034\n",
      "Step #40000 A = [10.080095]\n",
      "Loss #40000 loss = 1.6437905\n",
      "Step #50000 A = [10.053178]\n",
      "Loss #50000 loss = 0.45770556\n",
      "Step #60000 A = [10.113251]\n",
      "Loss #60000 loss = 1.400106\n",
      "Step #70000 A = [10.033848]\n",
      "Loss #70000 loss = 1.1638658\n",
      "Step #80000 A = [10.042049]\n",
      "Loss #80000 loss = 0.7379102\n",
      "Step #90000 A = [10.115741]\n",
      "Loss #90000 loss = 0.72073144\n",
      "Step #100000 A = [10.103045]\n",
      "Loss #100000 loss = 1.078437\n"
     ]
    }
   ],
   "source": [
    "import tensorflow as tf\n",
    "import numpy as np\n",
    "\n",
    "# バッチサイズを指定\n",
    "batch_size = 20\n",
    "\n",
    "x_vals = np.random.normal(1,0.1,100)\n",
    "y_vals = np.repeat(10.,100)\n",
    "\n",
    "# x, Y を batch_size に\n",
    "x = tf.placeholder(shape=[batch_size], dtype=tf.float32)\n",
    "Y = tf.placeholder(shape=[batch_size], dtype=tf.float32)\n",
    "A = tf.Variable(tf.random.normal(shape=[1]), name=\"A\")\n",
    "\n",
    "output = tf.multiply(x, A)\n",
    "loss = tf.reduce_mean(tf.square(output - Y), name=\"loss\")  \n",
    "\n",
    "optimizer = tf.train.GradientDescentOptimizer(learning_rate=0.02)\n",
    "optimizer_op = optimizer.minimize(loss)\n",
    "\n",
    "init = tf.global_variables_initializer()\n",
    "\n",
    "with tf.Session() as sess:\n",
    "    sess.run(init)\n",
    "\n",
    "    for i in range(100000):\n",
    "        rand_index = np.random.choice(100, batch_size)\n",
    "        \n",
    "        rand_x = np.transpose(x_vals[rand_index])\n",
    "        rand_y = np.transpose(y_vals[rand_index])\n",
    "        \n",
    "        sess.run(optimizer_op,  feed_dict={x:rand_x, Y:rand_y})\n",
    "            \n",
    "        if (i+1) % 10000 == 0:\n",
    "            print('Step #'+str(i+1)+\" A = \"+str(sess.run(A)))\n",
    "            print('Loss #'+str(i+1)+\" loss = \"+str(sess.run(loss, feed_dict={x:rand_x, Y:rand_y})))"
   ]
  },
  {
   "cell_type": "code",
   "execution_count": null,
   "metadata": {},
   "outputs": [],
   "source": []
  }
 ],
 "metadata": {
  "kernelspec": {
   "display_name": "Python 3",
   "language": "python",
   "name": "python3"
  },
  "language_info": {
   "codemirror_mode": {
    "name": "ipython",
    "version": 3
   },
   "file_extension": ".py",
   "mimetype": "text/x-python",
   "name": "python",
   "nbconvert_exporter": "python",
   "pygments_lexer": "ipython3",
   "version": "3.7.3"
  }
 },
 "nbformat": 4,
 "nbformat_minor": 2
}
